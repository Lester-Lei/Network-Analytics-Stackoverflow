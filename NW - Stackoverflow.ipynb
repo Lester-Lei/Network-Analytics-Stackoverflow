{
 "cells": [
  {
   "cell_type": "markdown",
   "metadata": {},
   "source": [
    "<h1><center>Final Report</center></h1>\n",
    "\n",
    "# Introduction\n",
    "\n",
    "The aim of this project is to analyse the StackOverflow setting to address why users participate in certain threads. StackOverflow is a forum website for experienced and amateur computer programmers to ask and answer questions related to different programming queries. Specifically, we want to analyse this problem in the context of the diffusion of new innovations within the StackOverflow community to ascertain why users participate in threads about new innovations, based on the characteristics of these users and the structure of the overall network. In this setting, we define a new innovation to be a new library that becomes popular for users of a specific programming language. This project uses the ‘Graph-Tool’ library as a typical innovation to analyse how attention towards this library spreads within the StackOverflow community. We chose this library because it is an efficient Python module for network analytics and was developed from Pandas, Matplotlib and Numpy. Finally, for comparison, we run all the same processes using NetworkX for comparison to back up the results of the study.\n",
    "\n",
    "# Network Analytics Pipeline\n",
    "\n",
    "## Data\n",
    "\n",
    "We used the StackOverflow data dump provided by Simone Santoni that contains extensive information from the StackOverflow website from all user interactions starting with the first post on 31st July 2008, up until this year. The ‘Posts’ dataset was relevant as for each question and answer, it contains the UserIds and qualitative information about the content, hence this is the dataset that we used.\n",
    "\n",
    "## Data Manipulation\n",
    "\n",
    "The first step was to search through this dataset for the first mention of Graph-Tool that occurred in the StackOverflow website by searching the Body, Title and Tags for each post. By searching these columns for any case-insensitive variation of Graph-Tool, we found that the first occurrence was on 28th March 2011. To find all innovators and early adopters, we searched through the next six months of subsequent Graph-Tool mentions to isolate all Users who posted a thread or replied to a thread about Graph-Tool. We classified all nodes that interacted with such a thread in the first three months as ‘Innovators’ and those who interacted in the following three months as ‘Adopters’.\n",
    "\n",
    "## Building the Network\n",
    "\n",
    "As the size of the data was so big, in order to build our network, we isolated one month of data prior to the first Graph-Tool mention to build a static network of StackOverflow users. For this network, the vertices are the individual users of Graph-Tool that were active in this month of data and an edge forms between user u and user v if user u replies directly to user v’s question or vice versa. The network is undirected and unweighted so an edge between two users simply represents that both users have paid attention to and interacted with the same thread. We build this network using Graph-Tool due to the size of the network and the computational capabilities of the library. \n",
    "\n",
    "## Community Structure\n",
    "\n",
    "Due to the nature of StackOverflow, we hypothesize that distinct communities of nodes would form based on areas of interest that certain threads pertain to. For example, one community might be formed by a group of Matplotlib users as they would likely all have an interest in data visualisation and pay attention to the same threads, thus forming links with each other. Nodes within each community should be more likely to have a link with other nodes within that community than nodes outside the community. For detecting communities within our network, we utilised the Stochastic Block Model (SBM) and Nested Stochastic Block Model (NSBM) in Graph-Tool.\n",
    "\n",
    "- Stochastic Block Model: This is a generative model for random graphs. This model tends to produce graphs containing communities, subsets characterized by being connected with one another with particular edge densities. For example, edges may be more common within communities than between communities. The goal of detection algorithms using this model is simply to determine, given a sampled graph, whether the graph has a latent community structure. As the general model assumes nodes in the same group have very similar degree structures, we use the degree-corrected stochastic block model as this is often a better model for empirical networks.\n",
    "- Nested Stochastic Block Model: The regular SBM has a disadvantage when applied to large networks as it cannot be used to find relatively small groups, the maximum number of groups that can be found scales as Bmax=O(N−−√), where N is the number of nodes in the network if Bayesian inference is performed. [peixoto-parsimonious-2013]. In order to avoid this, we will need to replace the noninformative priors used by a hierarchy of priors and hyperpriors, this amounts to a nested SBM, where the groups themselves are clustered into groups, and the matrix e of edge counts are generated from another SBM, and so on recursively (Peixoto, 2014). \n",
    "To run both of these community detection models in Graph-Tool we run the functions minimize_blockmodel_dl() for the SBM and minimize_nested_blockmodel_dl() for nested SBM, which both employ an agglomerative multilevel Markov chain Monte Carlo algorithm. \n",
    "For the purposes of this project, we will employ both algorithms to compare the results but focus on the nested SBM results for the reasons outlined above. Having run these community detection algorithms, we examine what communities the innovators and early adopters of Graph-Tool fall into using the nested SBM model to infer information about how the community structure of the network affects the innovation. \n",
    " \n",
    " \n",
    "## Degree Distribution \n",
    "Finally, we graphically show the degree distribution of our network and compare this to the degrees of the innovators and early adopters to infer information about the type of users that early adopters are.\n",
    "NetworkX\n",
    "We run all the above process on NetworkX to back up the results of our study.\n",
    "# Key Insights\n",
    "### Innovators and Early Adopters\n",
    "Previously, we defined ‘Innovators’ as those users which interacted with a Graph-Tool thread in the first 3 months after the first post on the subject. We found that there were 15 Innovators. We also defined ‘Adopters’ as those users which interacted with a Graph-Tool thread in the three months after that, so 3-6 months after the first post on the subject. We subsequently found there were 5 Adopters. From this information, we saw that after the first three months, the rate of diffusion for this innovation seems to slow and we do not observe a rapid epidemic spread, which makes sense as this library is only useful for network analytics.\n",
    "\n",
    "### The Effect of Inactivity \n",
    "Due to computational limitations, we have built the network using the month of data prior to the first post about graph-tool. However, this means that some of the Innovators and Adopters are not necessarily present in the network if they had never previously used StackOverflow or had not interacted with any threads in the past year. Out of the 15 Innovators, we found that 7 were not in our network and out of the 5 Adopters we found that 4 were not in our network. This is informative as it shows that relatively inactive users that do not post every month can be innovators and are just as likely to interact with threads about new innovative libraries.\n",
    "\n",
    "### Community Detection Algorithms\n",
    "When we run the degree-corrected SBM model, the result is that it estimates there are 48 distinct blocks in the network. However, as mentioned previously, the issue with this model is that there is a maximum number of blocks it can estimate which can be a problem when it is used to analyse large networks such as the StackOverflow network. Thus, we also run the degree-corrected nested SBM model which estimates that the number of nodes and blocks at levels 4,3,2,1 and 0. At level 4 there are 2 nodes in 1 block, at level 3 there are 9 nodes in 2 blocks, at level 2 there are 31 nodes in 9 blocks and at level 1 there are 91 nodes in 31 blocks. Finally, at level 0 there are 91 distinct blocks in the network containing all the nodes. Due to the nature of the network we have created, we can infer that each of these 91 blocks or ‘communities’ represent a different area of interest/expertise. We can use this result to get information on the innovators and early adopters we have defined. For example, if 2 of the innovators are in the same block at level 0 then we can say they are interested in the same area, which could be as specific as a Python library.\n",
    "\n",
    "### Analysing the Innovators and Adopters in the network\n",
    "From the results of the nested SBM community detection algorithm, we can examine which communities the Innovators and Adopters are a part of in our network. As the nested SBM algorithm is stochastic, we would have ideally ran this at least 10 times and selected the best model by estimating the one with the largest posterior probability but we could only run it once due to computational constraints. These are the communities that each of the Innovators are a part of at level 0: 34, 2, 38, 34, 53, 22, 35, 6. The Adopter that is in the network is a part of community 46. \n",
    "We can see that two of the innovators are from the same community (34) and this includes the initial node that posted the initial question. However, all of the other nodes are in different communities. This produces the slightly surprising result that the diffusion of Graph-Tool did not happen in one community, but instead quickly spread to nodes in different areas of the network. As Graph-Tool was developed from Numpy, Pandas and Matplotlib, this is likely the reason that the innovators and adopters are not concentrated in one specific community and this made members of different communities, likely all with an interest in network analytics, communicate when this library was released.\n",
    "### Degree Distribution\n",
    " \n",
    " <img src=\"Screenshot 2019-12-20 at 15.47.11.png\">\n",
    "Printed above is the degree distribution for the whole network which we produce to examine whether the degree of a node is likely to be an influential factor in predicting whether a node is likely to be an adopter. The average degree of a node in the network is also 5.81 (2dp) with a standard deviation of 0.06 (2dp). The degrees of the Innovators in this network are 15, 1, 10, 4, 31, 29, 55 and 14 whereas the degree of the Adopter in this network is 171. These results are informative, as Innovators and Adopters generally have high degrees relative to the network as a whole as all but two have a higher degree than the average in the network. What is particularly significant is the degree of the adopter which is very high at 171, meaning this node interacted with threads 171 times in the month prior to graph-tool being first mentioned. The graph above shows that randomly finding a node with degree 171 in this network is very small and this node is very highly connected. This is an interesting result as this particular library took 3-6 month to reach a central node with very high degree, and it is plausible that this led to a ripple effect and the rate of diffusion might have increased after month 6.\n",
    "\n",
    "# NetworkX Comparison\n",
    "To give a more detailed perspective of innovation, we introduce the analysis of a different library, NetworkX. This allows us to compare and contrast different results regarding information about the algorithms and the characteristics of the nodes. NetworkX is a Python package for the creation and manipulation of complex networks. We have chosen this library for our analysis because of the similarities of offerings both Graph-tool and NetworkX have as they are the two most popular libraries for network analytics.\n",
    "To compare the diffusion of these innovations we repeated the same network analytics pipeline for NetworkX and compared the results. From running all of this, we found that the first mention of NetworkX was on 7th May 2009 and from using a month of data before this, found 18 Innovators and 7 Adopters in the new network. After running the nested SBM model, it returned that at level 0 there were 12722 nodes in 36 blocks and that 12 innovators and adopters were in the network.\n",
    "We discovered that unlike Graph-tool, five of the innovators were in the same community (15), and all the other nodes were in different communities. This provides interesting results that the diffusion of innovation was more concentrated in one community and then later spread, first to the early adopters and then to the rest of the network. NetworkX has now become the most popular library for network analytics. \n",
    "\n",
    "<img src=\"Screenshot 2019-12-20 at 15.51.42.png\">\n",
    "\n",
    "## Key Insights \n",
    "StackOverflow was less populated at the first mention of NetworkX, which was in 2009 compared to Graph-tool in 2011, so having fewer users will indicate the lower numbers of communities when the algorithm is run. We believe this is why the diffusion of innovation is different for both of the libraries studied. As NetworkX was created when StackOverflow communities were more compact and integrated, it allowed NetworkX to be talked about first within one community. This may have meant that earlier in StackOverflow’s history, it was easier for a new innovation to gain traction in a community and eventually spread to the overall network. \n",
    "\n",
    "When concluding our results to answer the question, there are some similarities between the spread of both libraries. Being an active user is not a necessary requirement to interacting in such posts as there were many innovators and adopters that had not interacted with StackOverflow in the month before the library came out yet still participated in threads when it did. Additionally, having a high degree is generally important in participating in these threads for active users as most of the innovators and adopters in the networks had a much higher degree than average and could be classified as very highly connected nodes using the degree distributions. As we are looking at innovations that both took off and became very successful, it seems to highlight the importance of a highly connected node using a new library very early after the creation of the library in order to allow it to spread to other parts of the network.\n",
    "\n",
    "However, the differences between the results give another interesting conclusion. When StackOverflow started, it was a more densely connected forum that had tight-knit communities and a limited number of users. After a few years, it grew into a vast, highly populated forum website and is now the most popular website for developer empowerment, learning about programming and interacting with other computer programmers. In this way, the aspect of community structure has become less important in predicting the diffusion of new innovations such as Python libraries. Although when studying Graph-tool, the nested SBM algorithm separated the network into over 80 communities, this community structure was a poor predictor of the nodes that were innovators and early adopters because all nodes were in different communities.\n",
    "\n",
    "With regards to closures, which aid in the identification of social affiliations and communities, we classify this as membership closure which addresses the question ‘what is the probability that a person becomes involved with a particular focus as a function of the number of friends who are already involved in it?’. Membership closures occur when A is directly involved with a certain focus C, as A and B have a significant tie, the assumption we make is that due to the tie that A and B have, B will then develop a tie with the original focus C. In this situation, innovation is the focus.  Applying membership closure, we see that because of the new innovation(Graph tool/NetworkX), as the innovators begin to use and interact with this library in the community, word spreads and then more people begin to adopt this new library, early adopters and then finally, it goes on to spread through the network. The idea here is that because the innovation was concentrated in a particular community, adopted by the innovators, the only reason why any other node in the community/network would adopt this innovation is because of the innovators. \n",
    "\n",
    "\n",
    "# Conclusion\n",
    "Predicting link formation is an important task for a data scientist as it provides useful and significant insights on business-related problems like explaining the popularity of products in the online marketplaces, building recommendation systems and in our case, analysing thread participation. For this project, we decided to analyse two different libraries/innovations, Graph-tool and NetworkX, and provide detailed insights to our findings. In building our network, we isolated up to 1 month of data prior to the first mention of both libraries/innovation due to how large the data is and we then classified users as innovators if they interacted with Graph-tool or NetworkX in the first 3 months and classified users as early adopters if they interacted with the libraries in the following 3 months. Furthermore, to identify what communities these innovators and early adopters fall into,  we then ran two community detection algorithms, the stochastic and nested stochastic block model, on the network built and found that the nested stochastic block model produced a more accurate result as the stochastic block model fell short when it came to finding relatively small groups. For Graph-tool, out of the 15 innovators that were discovered, we found that 7 of them were absent from the network and out of the 5 adopters found, 4 of them were not in the network. This made it clear that even inactive users that don’t post every month can still be innovators and are as likely to interact with new innovative libraries. On the other hand, for NetworkX, we found that there were 18 innovators and 7 adopters, out of those numbers, after running the algorithm, there were only 12 nodes in the network and 9 of them were innovators and 3 were adopters. We then worked out the degree distribution of the whole network for Graph-tool and the average degree of a node 5.81 (2dp) with a standard deviation of 0.06 (2dp). This is essential as we know that the degree of both the innovators and adopters are generally high compared to other nodes in the network. We also use the membership closure to further define the network built and discover the ties between the focus(innovation) and the users. By all counts and with proven results, we see why certain users participate in certain threads.\n",
    "\n",
    "\n",
    "\n",
    "\n",
    "\n",
    "\n",
    "# Bibliography:\n",
    "\n",
    "Peixoto, T. (2014). Hierarchical Block Structures and High-Resolution Model Selection in Large Networks. Physical Review X, 4(1).\n"
   ]
  },
  {
   "cell_type": "code",
   "execution_count": null,
   "metadata": {},
   "outputs": [],
   "source": []
  },
  {
   "cell_type": "code",
   "execution_count": null,
   "metadata": {},
   "outputs": [],
   "source": []
  },
  {
   "cell_type": "code",
   "execution_count": null,
   "metadata": {},
   "outputs": [],
   "source": []
  },
  {
   "cell_type": "code",
   "execution_count": null,
   "metadata": {},
   "outputs": [],
   "source": []
  },
  {
   "cell_type": "code",
   "execution_count": null,
   "metadata": {},
   "outputs": [],
   "source": []
  },
  {
   "cell_type": "code",
   "execution_count": null,
   "metadata": {},
   "outputs": [],
   "source": []
  },
  {
   "cell_type": "code",
   "execution_count": null,
   "metadata": {},
   "outputs": [],
   "source": []
  },
  {
   "cell_type": "code",
   "execution_count": null,
   "metadata": {},
   "outputs": [],
   "source": []
  },
  {
   "cell_type": "code",
   "execution_count": null,
   "metadata": {},
   "outputs": [],
   "source": []
  }
 ],
 "metadata": {
  "kernelspec": {
   "display_name": "Python 3",
   "language": "python",
   "name": "python3"
  },
  "language_info": {
   "codemirror_mode": {
    "name": "ipython",
    "version": 3
   },
   "file_extension": ".py",
   "mimetype": "text/x-python",
   "name": "python",
   "nbconvert_exporter": "python",
   "pygments_lexer": "ipython3",
   "version": "3.7.3"
  },
  "nbTranslate": {
   "displayLangs": [
    "*"
   ],
   "hotkey": "alt-t",
   "langInMainMenu": true,
   "sourceLang": "en",
   "targetLang": "fr",
   "useGoogleTranslate": true
  },
  "toc": {
   "base_numbering": 1,
   "nav_menu": {},
   "number_sections": true,
   "sideBar": true,
   "skip_h1_title": false,
   "title_cell": "Table of Contents",
   "title_sidebar": "Contents",
   "toc_cell": false,
   "toc_position": {},
   "toc_section_display": true,
   "toc_window_display": true
  },
  "varInspector": {
   "cols": {
    "lenName": 16,
    "lenType": 16,
    "lenVar": 40
   },
   "kernels_config": {
    "python": {
     "delete_cmd_postfix": "",
     "delete_cmd_prefix": "del ",
     "library": "var_list.py",
     "varRefreshCmd": "print(var_dic_list())"
    },
    "r": {
     "delete_cmd_postfix": ") ",
     "delete_cmd_prefix": "rm(",
     "library": "var_list.r",
     "varRefreshCmd": "cat(var_dic_list()) "
    }
   },
   "types_to_exclude": [
    "module",
    "function",
    "builtin_function_or_method",
    "instance",
    "_Feature"
   ],
   "window_display": false
  }
 },
 "nbformat": 4,
 "nbformat_minor": 2
}
