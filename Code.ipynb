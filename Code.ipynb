{
 "cells": [
  {
   "cell_type": "code",
   "execution_count": 1,
   "metadata": {},
   "outputs": [],
   "source": [
    "import pandas as pd\n",
    "import numpy as np\n",
    "import matplotlib.pyplot as plt"
   ]
  },
  {
   "cell_type": "code",
   "execution_count": 2,
   "metadata": {},
   "outputs": [
    {
     "name": "stderr",
     "output_type": "stream",
     "text": [
      "/home/ubuntu/anaconda3/envs/gt2/lib/python3.7/site-packages/graph_tool/draw/cairo_draw.py:1494: RuntimeWarning: Error importing Gtk module: No module named 'gi'; GTK+ drawing will not work.\n",
      "  warnings.warn(msg, RuntimeWarning)\n"
     ]
    }
   ],
   "source": [
    "from graph_tool.all import *"
   ]
  },
  {
   "cell_type": "code",
   "execution_count": 3,
   "metadata": {},
   "outputs": [],
   "source": [
    "# Create df using only rows that are relevant as the whole file is too large. We did this by sequentially loading chunks\n",
    "# of data to filter for which observations are in the time frame of relevance.\n",
    "\n",
    "df1 = pd.read_csv('stackoverflow.Posts.csv', \n",
    "                  names= ['AnswerCount', 'Body', 'CommentCount', 'CreationDate', 'Id', 'LastActivityDate',\n",
    "                          'LastEditDate', 'LastEditorUserId', 'OwnerUserId', 'ParentId', 'PostTypeId', 'Score', \n",
    "                          'Tags', 'Title', 'Viewcount', '_id'],\n",
    "                  skiprows=3000000, nrows=9000000)"
   ]
  },
  {
   "cell_type": "markdown",
   "metadata": {},
   "source": [
    "# Finding first year of Graph-Tool mentions"
   ]
  },
  {
   "cell_type": "code",
   "execution_count": 4,
   "metadata": {},
   "outputs": [],
   "source": [
    "# Searching body, title and tag of each question to look for when graph-tool or equivalent first appeared and isolating all \n",
    "# questions about it within the first year after. Create lists containing all the nodes that participated in Graph-Tool \n",
    "# threads within the first year after the first post\n",
    "\n",
    "dfGT = df1.dropna(subset=['Body','Tags','Title'])\n",
    "dfGT = dfGT[dfGT['Body'].str.contains(\"graph-tool|graph tool|graph_tool\", case=False)| \n",
    "          dfGT['Tags'].str.contains(\"graph-tool|graph tool|graph_tool\", case=False)|\n",
    "          dfGT['Title'].str.contains(\"graph-tool|graph tool|graph_tool\", case=False)] \n",
    "dfGT = dfGT.loc[(dfGT['CreationDate'] > '2011-03-28') & (dfGT['CreationDate'] < '2011-09-28')]\n",
    "dfGT = dfGT.dropna(subset=['OwnerUserId'])\n",
    "EarlyAdopters = list(dfGT['OwnerUserId'])\n",
    "Questions = list(dfGT['Id'])\n",
    "\n",
    "# Very first tag is 2011-03-28"
   ]
  },
  {
   "cell_type": "code",
   "execution_count": 5,
   "metadata": {},
   "outputs": [],
   "source": [
    "# Use the list of question Ids to find any nodes that replied to threads about Graph-tool in first year, however the data \n",
    "# does not suggest any answers were given.\n",
    "\n",
    "df3 = df1\n",
    "mask = (df3['CreationDate'] > '2011-03-28') & (df3['CreationDate'] <= '2011-09-28')\n",
    "df3 = df3.loc[mask]\n",
    "df3 = df3[df3['ParentId'].isin(Questions)]"
   ]
  },
  {
   "cell_type": "code",
   "execution_count": 6,
   "metadata": {},
   "outputs": [],
   "source": [
    "Innovators = [434376,172590,736855,779849,766994,383679,512993,274589,734691,651687,413301,73660,526367,172590,265570]"
   ]
  },
  {
   "cell_type": "code",
   "execution_count": 7,
   "metadata": {},
   "outputs": [],
   "source": [
    "Adopters = [807867,936215,73226,898071,889614]"
   ]
  },
  {
   "cell_type": "markdown",
   "metadata": {},
   "source": [
    "# Creating DataFrame to build network"
   ]
  },
  {
   "cell_type": "code",
   "execution_count": 8,
   "metadata": {},
   "outputs": [],
   "source": [
    "# 6 months of prior data is used to build the network as otherwise there is too much to plot so we only use data from \n",
    "# 2011-10-04 onwards.\n",
    "\n",
    "df2 = df1\n",
    "df2['CreationDate'] = df2['CreationDate'].astype('datetime64[D]')\n",
    "mask = (df2['CreationDate'] > '2011-02-28') & (df2['CreationDate'] <= '2011-03-28')\n",
    "df2 = df2.loc[mask]"
   ]
  },
  {
   "cell_type": "code",
   "execution_count": 9,
   "metadata": {},
   "outputs": [],
   "source": [
    "# Df with information on just questions posted\n",
    "\n",
    "dfQ = df2.loc[df2['PostTypeId'] ==1]\n",
    "dfQ = dfQ[['Id','OwnerUserId']]\n",
    "dfQ['ParentId']=dfQ['Id']"
   ]
  },
  {
   "cell_type": "code",
   "execution_count": 10,
   "metadata": {},
   "outputs": [],
   "source": [
    "# Df with information on just answers to questions\n",
    "\n",
    "dfA = df2.loc[df1['PostTypeId'] ==2]\n",
    "dfA = dfA[['OwnerUserId','ParentId','CreationDate']]\n",
    "dfA = dfA.astype({\"ParentId\": int})"
   ]
  },
  {
   "cell_type": "code",
   "execution_count": 11,
   "metadata": {},
   "outputs": [],
   "source": [
    "# Merging df containing questions and answers so that each observation contains 2 nodes to link and time period. Also, drop\n",
    "# all NaN values.\n",
    "\n",
    "dfFinal = dfA.merge(dfQ,on='ParentId')\n",
    "dfFinal = dfFinal[['OwnerUserId_x','OwnerUserId_y']]\n",
    "dfFinal = dfFinal.rename(columns={\"OwnerUserId_x\": \"Id_x\", \"OwnerUserId_y\": \"Id_y\"})\n",
    "dfFinal = dfFinal.dropna(subset=['Id_x','Id_y'])\n",
    "dfFinal = dfFinal.astype({\"Id_x\":int,\"Id_y\":int})"
   ]
  },
  {
   "cell_type": "code",
   "execution_count": 12,
   "metadata": {},
   "outputs": [],
   "source": [
    "n = list(set(dfFinal['Id_x']))\n",
    "n.extend(list(set(dfFinal['Id_y'])))\n",
    "n = list(set(n))\n",
    "list.sort(n)"
   ]
  },
  {
   "cell_type": "code",
   "execution_count": 13,
   "metadata": {},
   "outputs": [
    {
     "data": {
      "text/plain": [
       "54417"
      ]
     },
     "execution_count": 13,
     "metadata": {},
     "output_type": "execute_result"
    }
   ],
   "source": [
    "len(n)"
   ]
  },
  {
   "cell_type": "code",
   "execution_count": 14,
   "metadata": {},
   "outputs": [],
   "source": [
    "Nodes = np.arange(54417)\n",
    "new = pd.DataFrame(Nodes,n)\n",
    "new['UserID'] = n\n",
    "new['Nodes'] = new[0]"
   ]
  },
  {
   "cell_type": "code",
   "execution_count": 15,
   "metadata": {},
   "outputs": [],
   "source": [
    "dfNew = dfFinal\n",
    "dct = pd.Series(new.Nodes.values,index=new.UserID).to_dict()\n",
    "dfNew['Id_x'] = dfNew.Id_x.map( dct )\n",
    "dfNew['Id_y'] = dfNew.Id_y.map( dct )"
   ]
  },
  {
   "cell_type": "code",
   "execution_count": 16,
   "metadata": {},
   "outputs": [],
   "source": [
    "index = new.loc[(new['UserID'].isin(Innovators)) | (new['UserID'].isin(Adopters))]"
   ]
  },
  {
   "cell_type": "code",
   "execution_count": 17,
   "metadata": {},
   "outputs": [
    {
     "name": "stdout",
     "output_type": "stream",
     "text": [
      "[434376, 172590, 736855, 779849, 766994, 383679, 512993, 274589, 734691, 651687, 413301, 73660, 526367, 172590, 265570] [807867, 936215, 73226, 898071, 889614]\n"
     ]
    }
   ],
   "source": [
    "print(Innovators, Adopters)"
   ]
  },
  {
   "cell_type": "code",
   "execution_count": 18,
   "metadata": {},
   "outputs": [
    {
     "data": {
      "text/html": [
       "<div>\n",
       "<style scoped>\n",
       "    .dataframe tbody tr th:only-of-type {\n",
       "        vertical-align: middle;\n",
       "    }\n",
       "\n",
       "    .dataframe tbody tr th {\n",
       "        vertical-align: top;\n",
       "    }\n",
       "\n",
       "    .dataframe thead th {\n",
       "        text-align: right;\n",
       "    }\n",
       "</style>\n",
       "<table border=\"1\" class=\"dataframe\">\n",
       "  <thead>\n",
       "    <tr style=\"text-align: right;\">\n",
       "      <th></th>\n",
       "      <th>0</th>\n",
       "      <th>UserID</th>\n",
       "      <th>Nodes</th>\n",
       "    </tr>\n",
       "  </thead>\n",
       "  <tbody>\n",
       "    <tr>\n",
       "      <th>73226</th>\n",
       "      <td>5078</td>\n",
       "      <td>73226</td>\n",
       "      <td>5078</td>\n",
       "    </tr>\n",
       "    <tr>\n",
       "      <th>73660</th>\n",
       "      <td>5098</td>\n",
       "      <td>73660</td>\n",
       "      <td>5098</td>\n",
       "    </tr>\n",
       "    <tr>\n",
       "      <th>265570</th>\n",
       "      <td>15766</td>\n",
       "      <td>265570</td>\n",
       "      <td>15766</td>\n",
       "    </tr>\n",
       "    <tr>\n",
       "      <th>274589</th>\n",
       "      <td>16235</td>\n",
       "      <td>274589</td>\n",
       "      <td>16235</td>\n",
       "    </tr>\n",
       "    <tr>\n",
       "      <th>413301</th>\n",
       "      <td>23336</td>\n",
       "      <td>413301</td>\n",
       "      <td>23336</td>\n",
       "    </tr>\n",
       "    <tr>\n",
       "      <th>434376</th>\n",
       "      <td>24449</td>\n",
       "      <td>434376</td>\n",
       "      <td>24449</td>\n",
       "    </tr>\n",
       "    <tr>\n",
       "      <th>512993</th>\n",
       "      <td>29015</td>\n",
       "      <td>512993</td>\n",
       "      <td>29015</td>\n",
       "    </tr>\n",
       "    <tr>\n",
       "      <th>526367</th>\n",
       "      <td>29768</td>\n",
       "      <td>526367</td>\n",
       "      <td>29768</td>\n",
       "    </tr>\n",
       "    <tr>\n",
       "      <th>651687</th>\n",
       "      <td>43300</td>\n",
       "      <td>651687</td>\n",
       "      <td>43300</td>\n",
       "    </tr>\n",
       "  </tbody>\n",
       "</table>\n",
       "</div>"
      ],
      "text/plain": [
       "            0  UserID  Nodes\n",
       "73226    5078   73226   5078\n",
       "73660    5098   73660   5098\n",
       "265570  15766  265570  15766\n",
       "274589  16235  274589  16235\n",
       "413301  23336  413301  23336\n",
       "434376  24449  434376  24449\n",
       "512993  29015  512993  29015\n",
       "526367  29768  526367  29768\n",
       "651687  43300  651687  43300"
      ]
     },
     "execution_count": 18,
     "metadata": {},
     "output_type": "execute_result"
    }
   ],
   "source": [
    "index"
   ]
  },
  {
   "cell_type": "markdown",
   "metadata": {},
   "source": [
    "# Network"
   ]
  },
  {
   "cell_type": "code",
   "execution_count": 19,
   "metadata": {},
   "outputs": [],
   "source": [
    "g = Graph(directed=False)"
   ]
  },
  {
   "cell_type": "code",
   "execution_count": 20,
   "metadata": {},
   "outputs": [],
   "source": [
    "g.add_edge_list(dfNew.values.tolist())"
   ]
  },
  {
   "cell_type": "code",
   "execution_count": 21,
   "metadata": {},
   "outputs": [
    {
     "data": {
      "text/plain": [
       "<Graph object, undirected, with 54417 vertices and 157968 edges at 0x7f5f2faf5e48>"
      ]
     },
     "execution_count": 21,
     "metadata": {},
     "output_type": "execute_result"
    }
   ],
   "source": [
    "g"
   ]
  },
  {
   "cell_type": "code",
   "execution_count": 23,
   "metadata": {},
   "outputs": [],
   "source": [
    "state = graph_tool.inference.minimize_blockmodel_dl(g)"
   ]
  },
  {
   "cell_type": "code",
   "execution_count": 24,
   "metadata": {},
   "outputs": [
    {
     "name": "stdout",
     "output_type": "stream",
     "text": [
      "<BlockState object with 48 blocks (48 nonempty), degree-corrected, for graph <Graph object, undirected, with 54417 vertices and 157968 edges at 0x7ffb6cd4ef28>, at 0x7ffa9de2c780>\n"
     ]
    }
   ],
   "source": [
    "print(state)"
   ]
  },
  {
   "cell_type": "code",
   "execution_count": 22,
   "metadata": {},
   "outputs": [],
   "source": [
    "state1 = graph_tool.inference.minimize_nested_blockmodel_dl(g)"
   ]
  },
  {
   "cell_type": "code",
   "execution_count": 23,
   "metadata": {},
   "outputs": [
    {
     "name": "stdout",
     "output_type": "stream",
     "text": [
      "l: 0, N: 54417, B: 91\n",
      "l: 1, N: 91, B: 31\n",
      "l: 2, N: 31, B: 9\n",
      "l: 3, N: 9, B: 2\n",
      "l: 4, N: 2, B: 1\n"
     ]
    }
   ],
   "source": [
    "state1.print_summary()"
   ]
  },
  {
   "cell_type": "code",
   "execution_count": 27,
   "metadata": {},
   "outputs": [],
   "source": [
    "lstate = state1.levels[0]\n",
    "ustate = state1.levels[1]"
   ]
  },
  {
   "cell_type": "code",
   "execution_count": 31,
   "metadata": {},
   "outputs": [
    {
     "data": {
      "text/html": [
       "<div>\n",
       "<style scoped>\n",
       "    .dataframe tbody tr th:only-of-type {\n",
       "        vertical-align: middle;\n",
       "    }\n",
       "\n",
       "    .dataframe tbody tr th {\n",
       "        vertical-align: top;\n",
       "    }\n",
       "\n",
       "    .dataframe thead th {\n",
       "        text-align: right;\n",
       "    }\n",
       "</style>\n",
       "<table border=\"1\" class=\"dataframe\">\n",
       "  <thead>\n",
       "    <tr style=\"text-align: right;\">\n",
       "      <th></th>\n",
       "      <th>0</th>\n",
       "      <th>UserID</th>\n",
       "      <th>Nodes</th>\n",
       "    </tr>\n",
       "  </thead>\n",
       "  <tbody>\n",
       "    <tr>\n",
       "      <th>73226</th>\n",
       "      <td>5078</td>\n",
       "      <td>73226</td>\n",
       "      <td>5078</td>\n",
       "    </tr>\n",
       "    <tr>\n",
       "      <th>73660</th>\n",
       "      <td>5098</td>\n",
       "      <td>73660</td>\n",
       "      <td>5098</td>\n",
       "    </tr>\n",
       "    <tr>\n",
       "      <th>265570</th>\n",
       "      <td>15766</td>\n",
       "      <td>265570</td>\n",
       "      <td>15766</td>\n",
       "    </tr>\n",
       "    <tr>\n",
       "      <th>274589</th>\n",
       "      <td>16235</td>\n",
       "      <td>274589</td>\n",
       "      <td>16235</td>\n",
       "    </tr>\n",
       "    <tr>\n",
       "      <th>413301</th>\n",
       "      <td>23336</td>\n",
       "      <td>413301</td>\n",
       "      <td>23336</td>\n",
       "    </tr>\n",
       "    <tr>\n",
       "      <th>434376</th>\n",
       "      <td>24449</td>\n",
       "      <td>434376</td>\n",
       "      <td>24449</td>\n",
       "    </tr>\n",
       "    <tr>\n",
       "      <th>512993</th>\n",
       "      <td>29015</td>\n",
       "      <td>512993</td>\n",
       "      <td>29015</td>\n",
       "    </tr>\n",
       "    <tr>\n",
       "      <th>526367</th>\n",
       "      <td>29768</td>\n",
       "      <td>526367</td>\n",
       "      <td>29768</td>\n",
       "    </tr>\n",
       "    <tr>\n",
       "      <th>651687</th>\n",
       "      <td>43300</td>\n",
       "      <td>651687</td>\n",
       "      <td>43300</td>\n",
       "    </tr>\n",
       "  </tbody>\n",
       "</table>\n",
       "</div>"
      ],
      "text/plain": [
       "            0  UserID  Nodes\n",
       "73226    5078   73226   5078\n",
       "73660    5098   73660   5098\n",
       "265570  15766  265570  15766\n",
       "274589  16235  274589  16235\n",
       "413301  23336  413301  23336\n",
       "434376  24449  434376  24449\n",
       "512993  29015  512993  29015\n",
       "526367  29768  526367  29768\n",
       "651687  43300  651687  43300"
      ]
     },
     "execution_count": 31,
     "metadata": {},
     "output_type": "execute_result"
    }
   ],
   "source": [
    "index"
   ]
  },
  {
   "cell_type": "code",
   "execution_count": 31,
   "metadata": {},
   "outputs": [
    {
     "name": "stdout",
     "output_type": "stream",
     "text": [
      "46 34 2 38 34 53 22 35 6\n"
     ]
    }
   ],
   "source": [
    "b = lstate.get_blocks()\n",
    "print(b[5078], b[5098], b[15766], b[16235], b[23336], b[24449], b[29015], b[29768], b[43300])"
   ]
  },
  {
   "cell_type": "code",
   "execution_count": 35,
   "metadata": {},
   "outputs": [
    {
     "name": "stdout",
     "output_type": "stream",
     "text": [
      "(5.8058327360935005, 0.05814650582810529)\n"
     ]
    }
   ],
   "source": [
    "print(graph_tool.stats.vertex_average(g,'total'))"
   ]
  },
  {
   "cell_type": "code",
   "execution_count": 42,
   "metadata": {},
   "outputs": [
    {
     "name": "stdout",
     "output_type": "stream",
     "text": [
      "<BlockState object with 86 blocks (86 nonempty), degree-corrected, for graph <Graph object, undirected, with 54417 vertices and 157968 edges at 0x7ffb6cd4ef28>, at 0x7ffabbaf6470>\n",
      "<BlockState object with 38 blocks (38 nonempty), for graph <Graph object, undirected, with 86 vertices and 2850 edges at 0x7ffb55e7dc18>, at 0x7ffa5e87a9b0>\n",
      "<BlockState object with 14 blocks (14 nonempty), for graph <Graph object, undirected, with 38 vertices and 667 edges at 0x7ffa56c384a8>, at 0x7ffab04c2630>\n",
      "<BlockState object with 5 blocks (5 nonempty), for graph <Graph object, undirected, with 14 vertices and 89 edges at 0x7ffab04c2898>, at 0x7ffab04bc860>\n",
      "<BlockState object with 2 blocks (2 nonempty), for graph <Graph object, undirected, with 5 vertices and 15 edges at 0x7ffa5e87a3c8>, at 0x7ffabbaf6a20>\n",
      "<BlockState object with 1 blocks (1 nonempty), for graph <Graph object, undirected, with 2 vertices and 3 edges at 0x7ffa5e87a438>, at 0x7ffa56c3d358>\n"
     ]
    }
   ],
   "source": [
    "levels = state1.get_levels()\n",
    "for s in levels:\n",
    "    print(s)"
   ]
  },
  {
   "cell_type": "code",
   "execution_count": 43,
   "metadata": {},
   "outputs": [
    {
     "name": "stdout",
     "output_type": "stream",
     "text": [
      "50\n",
      "29\n",
      "19\n",
      "12\n"
     ]
    }
   ],
   "source": [
    "r = levels[0].get_blocks()[5078]    # group membership of node 46 in level 0\n",
    "print(r)\n",
    "r = levels[0].get_blocks()[r]     # group membership of node 46 in level 1\n",
    "print(r)\n",
    "r = levels[0].get_blocks()[r]     # group membership of node 46 in level 1\n",
    "print(r)\n",
    "r = levels[0].get_blocks()[r]     # group membership of node 46 in level 1\n",
    "print(r)"
   ]
  },
  {
   "cell_type": "markdown",
   "metadata": {},
   "source": [
    "# Degree Distribution"
   ]
  },
  {
   "cell_type": "code",
   "execution_count": 33,
   "metadata": {},
   "outputs": [],
   "source": [
    "# get node in-degree\n",
    "hist = vertex_hist(g, \"total\")"
   ]
  },
  {
   "cell_type": "code",
   "execution_count": 34,
   "metadata": {},
   "outputs": [
    {
     "data": {
      "image/png": "[encoded data removed]",
      "text/plain": [
       "<Figure size 432x288 with 1 Axes>"
      ]
     },
     "metadata": {
      "needs_background": "light"
     },
     "output_type": "display_data"
    }
   ],
   "source": [
    "# data series\n",
    "# --+ point estimates\n",
    "y = hist[0]\n",
    "# --+ confidence interval\n",
    "err = np.sqrt(hist[0])\n",
    "err[err >= y] = y[err >= y] - 1e-2\n",
    "\n",
    "# create figure\n",
    "fig = plt.figure(figsize=(6,4))\n",
    "\n",
    "\n",
    "ax = fig.add_subplot(1, 1, 1)\n",
    "\n",
    "# plot data with Matplotlib errorbar\n",
    "ax.errorbar(hist[1][:-1], hist[0],\n",
    "         fmt=\"o\", alpha=0.5,\n",
    "         yerr=err,\n",
    "         label=\"in\")\n",
    "\n",
    "# axes\n",
    "ax.set_yscale(\"log\")\n",
    "ax.set_xscale(\"log\")\n",
    "ax.set_ylim(1e-1, 1e5)\n",
    "ax.set_xlim(0.8, 1e3)\n",
    "\n",
    "\n",
    "# labels\n",
    "ax.set_xlabel(\"$k_{in}$\")\n",
    "ax.set_ylabel(\"$Prob(k_{in})$\")\n",
    "\n",
    "# save figure\n",
    "fig.tight_layout()\n",
    "\n",
    "plt.savefig('Degrees.png')\n",
    "plt.show()"
   ]
  },
  {
   "cell_type": "code",
   "execution_count": 43,
   "metadata": {},
   "outputs": [],
   "source": [
    "nodelist = list(index['Nodes'])"
   ]
  },
  {
   "cell_type": "code",
   "execution_count": 46,
   "metadata": {},
   "outputs": [
    {
     "data": {
      "text/plain": [
       "[5078, 5098, 15766, 16235, 23336, 24449, 29015, 29768, 43300]"
      ]
     },
     "execution_count": 46,
     "metadata": {},
     "output_type": "execute_result"
    }
   ],
   "source": [
    "nodelist"
   ]
  },
  {
   "cell_type": "code",
   "execution_count": 45,
   "metadata": {},
   "outputs": [
    {
     "name": "stdout",
     "output_type": "stream",
     "text": [
      "[171  15   1  10   4  31  29  55  14]\n"
     ]
    }
   ],
   "source": [
    "print(g.get_total_degrees(nodelist))"
   ]
  },
  {
   "cell_type": "code",
   "execution_count": 38,
   "metadata": {},
   "outputs": [
    {
     "data": {
      "text/html": [
       "<div>\n",
       "<style scoped>\n",
       "    .dataframe tbody tr th:only-of-type {\n",
       "        vertical-align: middle;\n",
       "    }\n",
       "\n",
       "    .dataframe tbody tr th {\n",
       "        vertical-align: top;\n",
       "    }\n",
       "\n",
       "    .dataframe thead th {\n",
       "        text-align: right;\n",
       "    }\n",
       "</style>\n",
       "<table border=\"1\" class=\"dataframe\">\n",
       "  <thead>\n",
       "    <tr style=\"text-align: right;\">\n",
       "      <th></th>\n",
       "      <th>0</th>\n",
       "      <th>UserID</th>\n",
       "      <th>Nodes</th>\n",
       "    </tr>\n",
       "  </thead>\n",
       "  <tbody>\n",
       "    <tr>\n",
       "      <th>73226</th>\n",
       "      <td>5078</td>\n",
       "      <td>73226</td>\n",
       "      <td>5078</td>\n",
       "    </tr>\n",
       "    <tr>\n",
       "      <th>73660</th>\n",
       "      <td>5098</td>\n",
       "      <td>73660</td>\n",
       "      <td>5098</td>\n",
       "    </tr>\n",
       "    <tr>\n",
       "      <th>265570</th>\n",
       "      <td>15766</td>\n",
       "      <td>265570</td>\n",
       "      <td>15766</td>\n",
       "    </tr>\n",
       "    <tr>\n",
       "      <th>274589</th>\n",
       "      <td>16235</td>\n",
       "      <td>274589</td>\n",
       "      <td>16235</td>\n",
       "    </tr>\n",
       "    <tr>\n",
       "      <th>413301</th>\n",
       "      <td>23336</td>\n",
       "      <td>413301</td>\n",
       "      <td>23336</td>\n",
       "    </tr>\n",
       "    <tr>\n",
       "      <th>434376</th>\n",
       "      <td>24449</td>\n",
       "      <td>434376</td>\n",
       "      <td>24449</td>\n",
       "    </tr>\n",
       "    <tr>\n",
       "      <th>512993</th>\n",
       "      <td>29015</td>\n",
       "      <td>512993</td>\n",
       "      <td>29015</td>\n",
       "    </tr>\n",
       "    <tr>\n",
       "      <th>526367</th>\n",
       "      <td>29768</td>\n",
       "      <td>526367</td>\n",
       "      <td>29768</td>\n",
       "    </tr>\n",
       "    <tr>\n",
       "      <th>651687</th>\n",
       "      <td>43300</td>\n",
       "      <td>651687</td>\n",
       "      <td>43300</td>\n",
       "    </tr>\n",
       "  </tbody>\n",
       "</table>\n",
       "</div>"
      ],
      "text/plain": [
       "            0  UserID  Nodes\n",
       "73226    5078   73226   5078\n",
       "73660    5098   73660   5098\n",
       "265570  15766  265570  15766\n",
       "274589  16235  274589  16235\n",
       "413301  23336  413301  23336\n",
       "434376  24449  434376  24449\n",
       "512993  29015  512993  29015\n",
       "526367  29768  526367  29768\n",
       "651687  43300  651687  43300"
      ]
     },
     "execution_count": 38,
     "metadata": {},
     "output_type": "execute_result"
    }
   ],
   "source": [
    "index"
   ]
  },
  {
   "cell_type": "markdown",
   "metadata": {},
   "source": [
    "# NetworkX"
   ]
  },
  {
   "cell_type": "code",
   "execution_count": 3,
   "metadata": {},
   "outputs": [],
   "source": [
    "DF1 = pd.read_csv('stackoverflow.Posts.csv', \n",
    "                  names= ['AnswerCount', 'Body', 'CommentCount', 'CreationDate', 'Id', 'LastActivityDate',\n",
    "                          'LastEditDate', 'LastEditorUserId', 'OwnerUserId', 'ParentId', 'PostTypeId', 'Score', \n",
    "                          'Tags', 'Title', 'Viewcount', '_id'],\n",
    "                  skiprows=2, nrows=6000000)"
   ]
  },
  {
   "cell_type": "code",
   "execution_count": 4,
   "metadata": {},
   "outputs": [],
   "source": [
    "DFNX = DF1.dropna(subset=['Body','Tags','Title'])\n",
    "DFNX = DFNX[DFNX['Body'].str.contains(\"networkx|network-x\", case=False)| \n",
    "          DFNX['Tags'].str.contains(\"networkx|network-x\", case=False)|\n",
    "          DFNX['Title'].str.contains(\"networkx|network-x\", case=False)] \n",
    "# First mention is 2009-05-07"
   ]
  },
  {
   "cell_type": "code",
   "execution_count": 5,
   "metadata": {},
   "outputs": [],
   "source": [
    "DFNX = DFNX.loc[(DFNX['CreationDate'] > '2009-05-07') & (DFNX['CreationDate'] < '2009-11-07')]\n",
    "DFNX = DFNX.dropna(subset=['OwnerUserId'])\n",
    "EarlyAdoptersX = list(DFNX['OwnerUserId'])\n",
    "QuestionsX = list(DFNX['Id'])"
   ]
  },
  {
   "cell_type": "code",
   "execution_count": 6,
   "metadata": {},
   "outputs": [],
   "source": [
    "DFNX1 = DFNX.loc[(DFNX['CreationDate']<'2009-08-07')]"
   ]
  },
  {
   "cell_type": "code",
   "execution_count": 7,
   "metadata": {},
   "outputs": [],
   "source": [
    "DFNX2 = DFNX.loc[(DFNX['CreationDate']>'2009-08-07')]"
   ]
  },
  {
   "cell_type": "code",
   "execution_count": 8,
   "metadata": {},
   "outputs": [],
   "source": [
    "DF3 = DF1\n",
    "mask = (DF3['CreationDate'] > '2009-05-07') & (DF3['CreationDate'] <= '2009-11-07')\n",
    "DF3 = DF3.loc[mask]\n",
    "DF3 = DF3[DF3['ParentId'].isin(QuestionsX)]"
   ]
  },
  {
   "cell_type": "code",
   "execution_count": 9,
   "metadata": {},
   "outputs": [],
   "source": [
    "DF31 = DF3.loc[(DF3['CreationDate']<'2009-08-07')]"
   ]
  },
  {
   "cell_type": "code",
   "execution_count": 10,
   "metadata": {},
   "outputs": [],
   "source": [
    "DF32 = DF3.loc[(DF3['CreationDate']>'2009-08-07')]"
   ]
  },
  {
   "cell_type": "code",
   "execution_count": 11,
   "metadata": {},
   "outputs": [],
   "source": [
    "InnovatorsX = list(set(DFNX1['OwnerUserId']))\n",
    "InnovatorsX.extend(list(set(DF31['OwnerUserId'])))\n",
    "InnovatorsX = list(set(InnovatorsX))\n"
   ]
  },
  {
   "cell_type": "code",
   "execution_count": 12,
   "metadata": {},
   "outputs": [],
   "source": [
    "AdoptersX = list(set(DFNX2['OwnerUserId']))\n",
    "AdoptersX.extend(list(set(DF32['OwnerUserId'])))\n",
    "AdoptersX = list(set(AdoptersX))"
   ]
  },
  {
   "cell_type": "code",
   "execution_count": 13,
   "metadata": {},
   "outputs": [
    {
     "name": "stdout",
     "output_type": "stream",
     "text": [
      "[65696.0, 95810.0, 108130.0, 94404.0, 17160.0, 15369.0, 93004.0, 80204.0, 50831.0, 88879.0, 55281.0, 108687.0, 85140.0, 101430.0, 115866.0, 117052.0, 42973.0, 14558.0] [164546.0, 141826.0, 100322.0, 60617.0, 155726.0, 18936.0, 145403.0]\n"
     ]
    }
   ],
   "source": [
    "print(InnovatorsX,AdoptersX)"
   ]
  },
  {
   "cell_type": "code",
   "execution_count": 14,
   "metadata": {},
   "outputs": [],
   "source": [
    "DF2 = DF1\n",
    "DF2['CreationDate'] = DF2['CreationDate'].astype('datetime64[D]')\n",
    "mask = (DF2['CreationDate'] > '2009-04-07') & (DF2['CreationDate'] <= '2009-05-07')\n",
    "DF2 = DF2.loc[mask]"
   ]
  },
  {
   "cell_type": "code",
   "execution_count": 15,
   "metadata": {},
   "outputs": [],
   "source": [
    "DFQ = DF2.loc[DF2['PostTypeId'] ==1]\n",
    "DFQ = DFQ[['Id','OwnerUserId']]\n",
    "DFQ['ParentId']=DFQ['Id']"
   ]
  },
  {
   "cell_type": "code",
   "execution_count": 16,
   "metadata": {},
   "outputs": [],
   "source": [
    "DFA = DF2.loc[DF1['PostTypeId'] ==2]\n",
    "DFA = DFA[['OwnerUserId','ParentId','CreationDate']]\n",
    "DFA = DFA.astype({\"ParentId\": int})"
   ]
  },
  {
   "cell_type": "code",
   "execution_count": 17,
   "metadata": {},
   "outputs": [],
   "source": [
    "DFFinal = DFA.merge(DFQ,on='ParentId')\n",
    "DFFinal = DFFinal[['OwnerUserId_x','OwnerUserId_y']]\n",
    "DFFinal = DFFinal.rename(columns={\"OwnerUserId_x\": \"Id_x\", \"OwnerUserId_y\": \"Id_y\"})\n",
    "DFFinal = DFFinal.dropna(subset=['Id_x','Id_y'])\n",
    "DFFinal = DFFinal.astype({\"Id_x\":int,\"Id_y\":int})"
   ]
  },
  {
   "cell_type": "code",
   "execution_count": 18,
   "metadata": {},
   "outputs": [],
   "source": [
    "n = list(set(DFFinal['Id_x']))\n",
    "n.extend(list(set(DFFinal['Id_y'])))\n",
    "n = list(set(n))\n",
    "list.sort(n)"
   ]
  },
  {
   "cell_type": "code",
   "execution_count": 19,
   "metadata": {},
   "outputs": [
    {
     "data": {
      "text/plain": [
       "12722"
      ]
     },
     "execution_count": 19,
     "metadata": {},
     "output_type": "execute_result"
    }
   ],
   "source": [
    "len(n)"
   ]
  },
  {
   "cell_type": "code",
   "execution_count": 20,
   "metadata": {},
   "outputs": [],
   "source": [
    "Nodes = np.arange(12722)\n",
    "New = pd.DataFrame(Nodes,n)\n",
    "New['UserID'] = n\n",
    "New['Nodes'] = New[0]"
   ]
  },
  {
   "cell_type": "code",
   "execution_count": 21,
   "metadata": {},
   "outputs": [],
   "source": [
    "DFNew = DFFinal\n",
    "dct = pd.Series(New.Nodes.values,index=New.UserID).to_dict()\n",
    "DFNew['Id_x'] = DFNew.Id_x.map( dct )\n",
    "DFNew['Id_y'] = DFNew.Id_y.map( dct )"
   ]
  },
  {
   "cell_type": "code",
   "execution_count": 22,
   "metadata": {},
   "outputs": [],
   "source": [
    "Xindex = New.loc[(New['UserID'].isin(InnovatorsX)) | (New['UserID'].isin(AdoptersX))]"
   ]
  },
  {
   "cell_type": "code",
   "execution_count": 23,
   "metadata": {},
   "outputs": [
    {
     "data": {
      "text/html": [
       "<div>\n",
       "<style scoped>\n",
       "    .dataframe tbody tr th:only-of-type {\n",
       "        vertical-align: middle;\n",
       "    }\n",
       "\n",
       "    .dataframe tbody tr th {\n",
       "        vertical-align: top;\n",
       "    }\n",
       "\n",
       "    .dataframe thead th {\n",
       "        text-align: right;\n",
       "    }\n",
       "</style>\n",
       "<table border=\"1\" class=\"dataframe\">\n",
       "  <thead>\n",
       "    <tr style=\"text-align: right;\">\n",
       "      <th></th>\n",
       "      <th>0</th>\n",
       "      <th>UserID</th>\n",
       "      <th>Nodes</th>\n",
       "    </tr>\n",
       "  </thead>\n",
       "  <tbody>\n",
       "    <tr>\n",
       "      <th>14558</th>\n",
       "      <td>2454</td>\n",
       "      <td>14558</td>\n",
       "      <td>2454</td>\n",
       "    </tr>\n",
       "    <tr>\n",
       "      <th>15369</th>\n",
       "      <td>2543</td>\n",
       "      <td>15369</td>\n",
       "      <td>2543</td>\n",
       "    </tr>\n",
       "    <tr>\n",
       "      <th>17160</th>\n",
       "      <td>2746</td>\n",
       "      <td>17160</td>\n",
       "      <td>2746</td>\n",
       "    </tr>\n",
       "    <tr>\n",
       "      <th>18936</th>\n",
       "      <td>2947</td>\n",
       "      <td>18936</td>\n",
       "      <td>2947</td>\n",
       "    </tr>\n",
       "    <tr>\n",
       "      <th>60617</th>\n",
       "      <td>6758</td>\n",
       "      <td>60617</td>\n",
       "      <td>6758</td>\n",
       "    </tr>\n",
       "    <tr>\n",
       "      <th>65696</th>\n",
       "      <td>7239</td>\n",
       "      <td>65696</td>\n",
       "      <td>7239</td>\n",
       "    </tr>\n",
       "    <tr>\n",
       "      <th>85140</th>\n",
       "      <td>9219</td>\n",
       "      <td>85140</td>\n",
       "      <td>9219</td>\n",
       "    </tr>\n",
       "    <tr>\n",
       "      <th>88879</th>\n",
       "      <td>9743</td>\n",
       "      <td>88879</td>\n",
       "      <td>9743</td>\n",
       "    </tr>\n",
       "    <tr>\n",
       "      <th>94404</th>\n",
       "      <td>10793</td>\n",
       "      <td>94404</td>\n",
       "      <td>10793</td>\n",
       "    </tr>\n",
       "    <tr>\n",
       "      <th>95810</th>\n",
       "      <td>11039</td>\n",
       "      <td>95810</td>\n",
       "      <td>11039</td>\n",
       "    </tr>\n",
       "    <tr>\n",
       "      <th>100322</th>\n",
       "      <td>11864</td>\n",
       "      <td>100322</td>\n",
       "      <td>11864</td>\n",
       "    </tr>\n",
       "    <tr>\n",
       "      <th>101430</th>\n",
       "      <td>12064</td>\n",
       "      <td>101430</td>\n",
       "      <td>12064</td>\n",
       "    </tr>\n",
       "  </tbody>\n",
       "</table>\n",
       "</div>"
      ],
      "text/plain": [
       "            0  UserID  Nodes\n",
       "14558    2454   14558   2454\n",
       "15369    2543   15369   2543\n",
       "17160    2746   17160   2746\n",
       "18936    2947   18936   2947\n",
       "60617    6758   60617   6758\n",
       "65696    7239   65696   7239\n",
       "85140    9219   85140   9219\n",
       "88879    9743   88879   9743\n",
       "94404   10793   94404  10793\n",
       "95810   11039   95810  11039\n",
       "100322  11864  100322  11864\n",
       "101430  12064  101430  12064"
      ]
     },
     "execution_count": 23,
     "metadata": {},
     "output_type": "execute_result"
    }
   ],
   "source": [
    "Xindex"
   ]
  },
  {
   "cell_type": "code",
   "execution_count": 24,
   "metadata": {},
   "outputs": [
    {
     "name": "stdout",
     "output_type": "stream",
     "text": [
      "[65696.0, 95810.0, 108130.0, 94404.0, 17160.0, 15369.0, 93004.0, 80204.0, 50831.0, 88879.0, 55281.0, 108687.0, 85140.0, 101430.0, 115866.0, 117052.0, 42973.0, 14558.0] [164546.0, 141826.0, 100322.0, 60617.0, 155726.0, 18936.0, 145403.0]\n"
     ]
    }
   ],
   "source": [
    "print(InnovatorsX,AdoptersX)"
   ]
  },
  {
   "cell_type": "code",
   "execution_count": 30,
   "metadata": {},
   "outputs": [],
   "source": [
    "G = Graph(directed=False)"
   ]
  },
  {
   "cell_type": "code",
   "execution_count": 31,
   "metadata": {},
   "outputs": [],
   "source": [
    "G.add_edge_list(DFNew.values.tolist())"
   ]
  },
  {
   "cell_type": "code",
   "execution_count": 32,
   "metadata": {},
   "outputs": [],
   "source": [
    "stateX = graph_tool.inference.minimize_nested_blockmodel_dl(G)"
   ]
  },
  {
   "cell_type": "code",
   "execution_count": 33,
   "metadata": {},
   "outputs": [
    {
     "name": "stdout",
     "output_type": "stream",
     "text": [
      "<NestedBlockState object, with base <BlockState object with 22 blocks (22 nonempty), degree-corrected, for graph <Graph object, undirected, with 12722 vertices and 52891 edges at 0x7f29d027c080>, at 0x7f2980cb9048>, and 3 levels of sizes [(12722, 22), (22, 4), (4, 1)] at 0x7f293f8eddd8>\n"
     ]
    }
   ],
   "source": [
    "print(stateX)"
   ]
  },
  {
   "cell_type": "code",
   "execution_count": 34,
   "metadata": {},
   "outputs": [
    {
     "name": "stdout",
     "output_type": "stream",
     "text": [
      "l: 0, N: 12722, B: 22\n",
      "l: 1, N: 22, B: 4\n",
      "l: 2, N: 4, B: 1\n"
     ]
    }
   ],
   "source": [
    "stateX.print_summary()"
   ]
  },
  {
   "cell_type": "code",
   "execution_count": 35,
   "metadata": {},
   "outputs": [],
   "source": [
    "Xstate = stateX.levels[0]"
   ]
  },
  {
   "cell_type": "code",
   "execution_count": 38,
   "metadata": {},
   "outputs": [
    {
     "data": {
      "text/html": [
       "<div>\n",
       "<style scoped>\n",
       "    .dataframe tbody tr th:only-of-type {\n",
       "        vertical-align: middle;\n",
       "    }\n",
       "\n",
       "    .dataframe tbody tr th {\n",
       "        vertical-align: top;\n",
       "    }\n",
       "\n",
       "    .dataframe thead th {\n",
       "        text-align: right;\n",
       "    }\n",
       "</style>\n",
       "<table border=\"1\" class=\"dataframe\">\n",
       "  <thead>\n",
       "    <tr style=\"text-align: right;\">\n",
       "      <th></th>\n",
       "      <th>0</th>\n",
       "      <th>UserID</th>\n",
       "      <th>Nodes</th>\n",
       "    </tr>\n",
       "  </thead>\n",
       "  <tbody>\n",
       "    <tr>\n",
       "      <th>14558</th>\n",
       "      <td>2454</td>\n",
       "      <td>14558</td>\n",
       "      <td>2454</td>\n",
       "    </tr>\n",
       "    <tr>\n",
       "      <th>15369</th>\n",
       "      <td>2543</td>\n",
       "      <td>15369</td>\n",
       "      <td>2543</td>\n",
       "    </tr>\n",
       "    <tr>\n",
       "      <th>17160</th>\n",
       "      <td>2746</td>\n",
       "      <td>17160</td>\n",
       "      <td>2746</td>\n",
       "    </tr>\n",
       "    <tr>\n",
       "      <th>18936</th>\n",
       "      <td>2947</td>\n",
       "      <td>18936</td>\n",
       "      <td>2947</td>\n",
       "    </tr>\n",
       "    <tr>\n",
       "      <th>60617</th>\n",
       "      <td>6758</td>\n",
       "      <td>60617</td>\n",
       "      <td>6758</td>\n",
       "    </tr>\n",
       "    <tr>\n",
       "      <th>65696</th>\n",
       "      <td>7239</td>\n",
       "      <td>65696</td>\n",
       "      <td>7239</td>\n",
       "    </tr>\n",
       "    <tr>\n",
       "      <th>85140</th>\n",
       "      <td>9219</td>\n",
       "      <td>85140</td>\n",
       "      <td>9219</td>\n",
       "    </tr>\n",
       "    <tr>\n",
       "      <th>88879</th>\n",
       "      <td>9743</td>\n",
       "      <td>88879</td>\n",
       "      <td>9743</td>\n",
       "    </tr>\n",
       "    <tr>\n",
       "      <th>94404</th>\n",
       "      <td>10793</td>\n",
       "      <td>94404</td>\n",
       "      <td>10793</td>\n",
       "    </tr>\n",
       "    <tr>\n",
       "      <th>95810</th>\n",
       "      <td>11039</td>\n",
       "      <td>95810</td>\n",
       "      <td>11039</td>\n",
       "    </tr>\n",
       "    <tr>\n",
       "      <th>100322</th>\n",
       "      <td>11864</td>\n",
       "      <td>100322</td>\n",
       "      <td>11864</td>\n",
       "    </tr>\n",
       "    <tr>\n",
       "      <th>101430</th>\n",
       "      <td>12064</td>\n",
       "      <td>101430</td>\n",
       "      <td>12064</td>\n",
       "    </tr>\n",
       "  </tbody>\n",
       "</table>\n",
       "</div>"
      ],
      "text/plain": [
       "            0  UserID  Nodes\n",
       "14558    2454   14558   2454\n",
       "15369    2543   15369   2543\n",
       "17160    2746   17160   2746\n",
       "18936    2947   18936   2947\n",
       "60617    6758   60617   6758\n",
       "65696    7239   65696   7239\n",
       "85140    9219   85140   9219\n",
       "88879    9743   88879   9743\n",
       "94404   10793   94404  10793\n",
       "95810   11039   95810  11039\n",
       "100322  11864  100322  11864\n",
       "101430  12064  101430  12064"
      ]
     },
     "execution_count": 38,
     "metadata": {},
     "output_type": "execute_result"
    }
   ],
   "source": [
    "Xindex"
   ]
  },
  {
   "cell_type": "code",
   "execution_count": 39,
   "metadata": {},
   "outputs": [
    {
     "name": "stdout",
     "output_type": "stream",
     "text": [
      "3 15 15 18 4 0 14 14 15 15 15\n"
     ]
    }
   ],
   "source": [
    "c = Xstate.get_blocks()\n",
    "print(c[2454], c[2543], c[2746] ,c[2947], c[7239], c[9219], c[9743], c[10793], c[11039], c[11864], c[12064])"
   ]
  },
  {
   "cell_type": "code",
   "execution_count": 59,
   "metadata": {},
   "outputs": [],
   "source": [
    "Xlist = list(Xindex['Nodes'])"
   ]
  },
  {
   "cell_type": "code",
   "execution_count": 61,
   "metadata": {},
   "outputs": [
    {
     "name": "stdout",
     "output_type": "stream",
     "text": [
      "[ 5 29 71 39  1  3 85 15]\n"
     ]
    }
   ],
   "source": [
    "print(G.get_total_degrees(Xlist))"
   ]
  },
  {
   "cell_type": "code",
   "execution_count": 62,
   "metadata": {},
   "outputs": [
    {
     "data": {
      "text/plain": [
       "[65696.0,\n",
       " 95810.0,\n",
       " 108130.0,\n",
       " 17160.0,\n",
       " 93004.0,\n",
       " 80204.0,\n",
       " 88879.0,\n",
       " 50831.0,\n",
       " 55281.0,\n",
       " 108687.0,\n",
       " 85140.0,\n",
       " 115866.0,\n",
       " 117052.0,\n",
       " 42973.0,\n",
       " 14558.0]"
      ]
     },
     "execution_count": 62,
     "metadata": {},
     "output_type": "execute_result"
    }
   ],
   "source": [
    "InnovatorsX"
   ]
  },
  {
   "cell_type": "code",
   "execution_count": 64,
   "metadata": {},
   "outputs": [
    {
     "data": {
      "text/plain": [
       "[164546.0, 141826.0, 100322.0, 155726.0, 18936.0]"
      ]
     },
     "execution_count": 64,
     "metadata": {},
     "output_type": "execute_result"
    }
   ],
   "source": [
    "AdoptersX"
   ]
  },
  {
   "cell_type": "code",
   "execution_count": 42,
   "metadata": {},
   "outputs": [
    {
     "data": {
      "image/png": "[encoded data removed]",
      "text/plain": [
       "<Figure size 432x288 with 1 Axes>"
      ]
     },
     "metadata": {
      "needs_background": "light"
     },
     "output_type": "display_data"
    }
   ],
   "source": [
    "hist = vertex_hist(G, \"total\")\n",
    "# data series\n",
    "# --+ point estimates\n",
    "Y = hist[0]\n",
    "# --+ confidence interval\n",
    "err = np.sqrt(hist[0])\n",
    "err[err >= Y] = Y[err >= Y] - 1e-2\n",
    "\n",
    "# create figure\n",
    "fig = plt.figure(figsize=(6,4))\n",
    "\n",
    "\n",
    "ax = fig.add_subplot(1, 1, 1)\n",
    "\n",
    "# plot data with Matplotlib errorbar\n",
    "ax.errorbar(hist[1][:-1], hist[0],\n",
    "         fmt=\"o\", alpha=0.5,\n",
    "         yerr=err,\n",
    "         label=\"in\")\n",
    "\n",
    "# axes\n",
    "ax.set_yscale(\"log\")\n",
    "ax.set_xscale(\"log\")\n",
    "ax.set_ylim(1e-1, 1e5)\n",
    "ax.set_xlim(0.8, 1e3)\n",
    "\n",
    "\n",
    "# labels\n",
    "ax.set_xlabel(\"$k_{in}$\")\n",
    "ax.set_ylabel(\"$Prob(k_{in})$\")\n",
    "\n",
    "# save figure\n",
    "fig.tight_layout()\n",
    "\n",
    "plt.savefig('Degrees2.png')\n",
    "plt.show()"
   ]
  }
 ],
 "metadata": {
  "kernelspec": {
   "display_name": "Python 3",
   "language": "python",
   "name": "python3"
  },
  "language_info": {
   "codemirror_mode": {
    "name": "ipython",
    "version": 3
   },
   "file_extension": ".py",
   "mimetype": "text/x-python",
   "name": "python",
   "nbconvert_exporter": "python",
   "pygments_lexer": "ipython3",
   "version": "3.7.3"
  },
  "toc": {
   "base_numbering": 1,
   "nav_menu": {},
   "number_sections": true,
   "sideBar": true,
   "skip_h1_title": false,
   "title_cell": "Table of Contents",
   "title_sidebar": "Contents",
   "toc_cell": false,
   "toc_position": {},
   "toc_section_display": true,
   "toc_window_display": false
  },
  "varInspector": {
   "cols": {
    "lenName": 16,
    "lenType": 16,
    "lenVar": 40
   },
   "kernels_config": {
    "python": {
     "delete_cmd_postfix": "",
     "delete_cmd_prefix": "del ",
     "library": "var_list.py",
     "varRefreshCmd": "print(var_dic_list())"
    },
    "r": {
     "delete_cmd_postfix": ") ",
     "delete_cmd_prefix": "rm(",
     "library": "var_list.r",
     "varRefreshCmd": "cat(var_dic_list()) "
    }
   },
   "types_to_exclude": [
    "module",
    "function",
    "builtin_function_or_method",
    "instance",
    "_Feature"
   ],
   "window_display": false
  }
 },
 "nbformat": 4,
 "nbformat_minor": 2
}
